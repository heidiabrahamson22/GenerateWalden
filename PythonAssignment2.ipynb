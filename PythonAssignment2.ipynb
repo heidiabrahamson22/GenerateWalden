{
 "cells": [
  {
   "cell_type": "code",
   "execution_count": 1,
   "id": "52000b22",
   "metadata": {},
   "outputs": [],
   "source": [
    "import numpy as np\n",
    "import pandas as pd"
   ]
  },
  {
   "cell_type": "code",
   "execution_count": 2,
   "id": "1b5eb3ff",
   "metadata": {
    "scrolled": false
   },
   "outputs": [
    {
     "data": {
      "text/plain": [
       "[('\\ufeff', 'the'),\n",
       " ('the', 'project'),\n",
       " ('project', 'gutenberg'),\n",
       " ('gutenberg', 'ebook'),\n",
       " ('ebook', 'of'),\n",
       " ('of', 'walden'),\n",
       " ('walden', 'and'),\n",
       " ('and', 'on'),\n",
       " ('on', 'the'),\n",
       " ('the', 'duty'),\n",
       " ('duty', 'of'),\n",
       " ('of', 'civil'),\n",
       " ('civil', 'disobedience'),\n",
       " ('disobedience', 'by'),\n",
       " ('by', 'henry'),\n",
       " ('henry', 'david'),\n",
       " ('david', 'thoreau'),\n",
       " ('thoreau', 'this'),\n",
       " ('this', 'ebook'),\n",
       " ('ebook', 'is'),\n",
       " ('is', 'for'),\n",
       " ('for', 'the'),\n",
       " ('the', 'use'),\n",
       " ('use', 'of'),\n",
       " ('of', 'anyone'),\n",
       " ('anyone', 'anywhere'),\n",
       " ('anywhere', 'at'),\n",
       " ('at', 'no'),\n",
       " ('no', 'cost'),\n",
       " ('cost', 'and'),\n",
       " ('and', 'with'),\n",
       " ('with', 'almost'),\n",
       " ('almost', 'no'),\n",
       " ('no', 'restrictions'),\n",
       " ('restrictions', 'whatsoever'),\n",
       " ('whatsoever', 'PERIOD'),\n",
       " ('PERIOD', 'you'),\n",
       " ('you', 'may'),\n",
       " ('may', 'copy'),\n",
       " ('copy', 'it')]"
      ]
     },
     "execution_count": 2,
     "metadata": {},
     "output_type": "execute_result"
    }
   ],
   "source": [
    "#Question 2\n",
    "#Open file as list\n",
    "with open(\"walden_clean.txt\", \"r\") as file:\n",
    "    walden_list = file.readlines()\n",
    "#Replace periods with PERIOD\n",
    "for idx, val in enumerate(walden_list):\n",
    "    walden_list[idx] = val.replace(\".\\n\",\" PERIOD\")\n",
    "#Split list into words\n",
    "word_list = []\n",
    "for line in walden_list:\n",
    "    word = line.split(\" \")\n",
    "    word_list.extend(word)\n",
    "#Zip list of words with list of words offset by 1 to create pairs\n",
    "pairs_list = list(zip(word_list,word_list[1:]))\n",
    "pairs_list[0:40]"
   ]
  },
  {
   "cell_type": "code",
   "execution_count": 3,
   "id": "b08ffd6f",
   "metadata": {},
   "outputs": [
    {
     "data": {
      "text/plain": [
       "4"
      ]
     },
     "execution_count": 3,
     "metadata": {},
     "output_type": "execute_result"
    }
   ],
   "source": [
    "#Question 3\n",
    "#Create list of unique words\n",
    "words=sorted(list(set(word_list)))\n",
    "#Create data frame filled with 0s and columns and indexes as unique words\n",
    "df = pd.DataFrame(0, columns=words, index=words)\n",
    "#Fill data frame with count of pairs in pairs list. Got code on https://stackoverflow.com/questions/62946067/create-a-frequency-matrix-for-bigrams-from-a-list-of-tuples-using-numpy-or-pand\n",
    "for i in pairs_list:\n",
    "    df.at[i[0],i[1]] += 1\n",
    "#Just showing the count of one pair so I don't have to load the full thing\n",
    "df.loc['henry','david']"
   ]
  },
  {
   "cell_type": "code",
   "execution_count": 4,
   "id": "597f709c",
   "metadata": {
    "scrolled": true
   },
   "outputs": [
    {
     "data": {
      "text/plain": [
       "the    1.0\n",
       "dtype: float64"
      ]
     },
     "execution_count": 4,
     "metadata": {},
     "output_type": "execute_result"
    }
   ],
   "source": [
    "#Question 4\n",
    "#Convert frequencies to probability of word pair. Got code from stack overflow https://stackoverflow.com/questions/26537878/pandas-sum-across-columns-and-divide-each-cell-from-that-value\n",
    "dfp = (df.T / df.T.sum()).T\n",
    "#Fill NAs with zeros\n",
    "dfp = dfp.fillna(0)\n",
    "#Check the word \"the\" sums up to 1\n",
    "dfp.loc[['the']].sum(axis=1)"
   ]
  },
  {
   "cell_type": "code",
   "execution_count": 15,
   "id": "5c202810",
   "metadata": {},
   "outputs": [
    {
     "name": "stdout",
     "output_type": "stream",
     "text": [
      "perseverance of all sides of his piece of the table\n",
      "contact with great deal with new england says he was\n",
      "prevents the restless in the walls of beans instead of\n",
      "lintel and had the road we do again tonight as\n",
      "masonry PERIOD\n",
      "pretends to the north-west passage through which looked at the\n",
      "rudely digested or its cellular tissue PERIOD\n",
      "contained the water with his summons before they would show\n",
      "15  these heavens even in upon it was straining\n",
      "scalloped southern bayou PERIOD\n",
      "inconvenience as not even so well as horse or a\n",
      "arabia to accomplish it offers PERIOD\n",
      "beheld this provender PERIOD\n",
      "generative energy strewing his neighbors i hoed them and clout\n",
      "distorted withal produces a dark brown to avoid the elements\n",
      "shrinking from vale to be discovered a “leach hole” by\n",
      "trapper and we always the other acid or steer for\n",
      "momentary enjoyment in the east of bread without injuring eternity\n",
      "moulds you are advertised that it is always study nature\n",
      "hare or cattle show at such as for my dinner\n",
      "swallows alighted and teach the house had grown into the\n",
      "fleeting phenomena of the village to worship not in the\n",
      "let us for again PERIOD\n",
      "webster’s fugitive-slave bill PERIOD\n",
      "spring—privilege to me when he shows himself in their lids\n",
      "dense grove of men on the purpose PERIOD\n",
      "phil-_anthropic_ distinctions PERIOD\n",
      "waterlogged while we fight at the engine’s soot form a\n",
      "overcome its summer but stream and dying moans of bose\n",
      "_g_ adds “in which it is commonly they have not\n",
      "materially in the whitest most men and selecting a higher\n",
      "wager and the exchange his operations as my way as\n",
      "notched and passes deeper than the only with a nail\n",
      "squirrel had been bought with only chirruped the intellect is\n",
      "locomotive from the tailors” said that is reptile and polish\n",
      "la perouse—universal science and wait for a man’s gain is\n",
      "sufferer’s eyes and leaning on a fishhawk dimples in the\n",
      "senses until they are in my slumbers all prize more\n",
      "skilful chopper and not mean what fine distinctions with my\n",
      "clamor wheeled and birds passing through the beautiful of dissipation\n",
      "demigods to dwell near the land directed under-current i distinguished\n",
      "cells are cheated in many of the forest felt the\n",
      "nilometer but to be found in his own nature it\n",
      "nabathæan kingdom have a belt and sand-cherry (_cerasus pumila_) adorned\n",
      "confessions to do with a dark night in earnest sense\n",
      "concerning them plainly fished from the pickerel and winter the\n",
      "current slides eastward allowing for in any more thrilling songsters\n",
      "acts on a _malaria_ all this point of life though\n",
      "alteration modification or hired money—and we want to contemplation PERIOD\n",
      "drop-like point to west end of the woods that employment\n",
      "form of the pond and there PERIOD\n",
      "sudbury meadows all the pond and i trust that i\n",
      "accompanies it with superior natures PERIOD\n",
      "soot PERIOD\n",
      "cultivator but the latter does in at the fishes which\n",
      "walking in the valleys and i fancied that i shall\n",
      "emerald an extinct nation PERIOD\n",
      "pulled together in old people would admit excess of the\n",
      "7th 1743 hezekiah stratton was no mortal taste surrounds us\n",
      "meet my hut which comes the water is the heap\n",
      "martyrs reformers the winter cap for a woodchuck skin though\n",
      "knows not more favorable not leave either because he had\n",
      "extravagantly large farms houses first signs were worse in the\n",
      "devil’s attorney PERIOD\n",
      "_doing_ nothing in the stone and desire to go to\n",
      "share any word about a couple of another so cannot\n",
      "dresden PERIOD\n",
      "pores PERIOD\n",
      "consumer of the lowing of drovers with zoroaster then the\n",
      "greatest breadth of that my broad field into the flute\n",
      "casts its roots where lately sundered from all contiguous to\n",
      "obscurities for “coffin-maker PERIOD\n",
      "sonorously and he will never roused me than any part\n",
      "monuments of worth the color in season and bucket irrecoverable\n",
      "tradesmen who delights of the book PERIOD\n",
      "direction PERIOD\n",
      "separately that a single scintillation from it for actual phenomenon\n",
      "energetically and emerged a charity that the inlet or well\n",
      "rightly compel you look over and andirons a mess of\n",
      "manifestation in many of a drop-like point out of my\n",
      "connected under the dew that fact you will just thirteen\n",
      "dawning nature furnished and suggest what a great measure PERIOD\n",
      "cyclopædia to me “i am not mainly to hear that\n",
      "thence our village with human race of the love to\n",
      "chilling men’s houses may say that intervene in the better\n",
      "wafted over another year except to do not exchange in\n",
      "drunk water for a pair of industry from one time\n",
      "1847 stood in the stones and do not bear to\n",
      "air! if it PERIOD\n",
      "thoughts—no he lived under the experience also yields the bays\n",
      "remembrance of what extremes or twelve dollars and at present\n",
      "nebuchadnezzar on a companion that a nation PERIOD\n",
      "st PERIOD\n",
      "messenger!” the eyes for wrecks along early introduce us PERIOD\n",
      "settle ourselves wise knew so often like a green mountains\n",
      "immediately they are commonly said to put into the river\n",
      "straightening its lowest condition of men PERIOD\n",
      "landlord comes to him PERIOD\n",
      "baboons or ten feet beneath PERIOD\n",
      "ministerial husbandman its helve from the branches pointing backward and\n"
     ]
    }
   ],
   "source": [
    "#Question 5\n",
    "import random\n",
    "\n",
    "def generated_walden(): \n",
    "    first_word = random.choices(dfp.columns) #generate first word randomly\n",
    "    gen_walden = []\n",
    "    gen_walden.extend(first_word) #put first word in list\n",
    "    for i in range(9):\n",
    "        next_word = random.choices(dfp.columns, dfp.loc[gen_walden[-1]]) #look for latest word in list and generate next word from that word 9 times\n",
    "        if next_word[0] == 'PERIOD': #if period, add it to the list and break from loop\n",
    "            gen_walden.extend(next_word)   \n",
    "            break\n",
    "        else:\n",
    "            gen_walden.extend(next_word) \n",
    "    return print(' '.join(gen_walden))\n",
    "\n",
    "for i in range(100): #generate 100 sentences\n",
    "    generated_walden()"
   ]
  },
  {
   "cell_type": "code",
   "execution_count": null,
   "id": "c9f3ac7c",
   "metadata": {},
   "outputs": [],
   "source": []
  }
 ],
 "metadata": {
  "kernelspec": {
   "display_name": "Python 3 (ipykernel)",
   "language": "python",
   "name": "python3"
  },
  "language_info": {
   "codemirror_mode": {
    "name": "ipython",
    "version": 3
   },
   "file_extension": ".py",
   "mimetype": "text/x-python",
   "name": "python",
   "nbconvert_exporter": "python",
   "pygments_lexer": "ipython3",
   "version": "3.11.5"
  }
 },
 "nbformat": 4,
 "nbformat_minor": 5
}
